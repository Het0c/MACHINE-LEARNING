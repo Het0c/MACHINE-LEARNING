{
  "cells": [
    {
      "cell_type": "code",
      "execution_count": null,
      "metadata": {
        "_cell_guid": "b1076dfc-b9ad-4769-8c92-a6c4dae69d19",
        "_uuid": "8f2839f25d086af736a60e9eeb907d3b93b6e0e5",
        "execution": {
          "iopub.execute_input": "2020-12-22T00:37:28.117375Z",
          "iopub.status.busy": "2020-12-22T00:37:28.116433Z",
          "iopub.status.idle": "2020-12-22T00:37:28.128604Z",
          "shell.execute_reply": "2020-12-22T00:37:28.127785Z"
        },
        "papermill": {
          "duration": 0.048046,
          "end_time": "2020-12-22T00:37:28.128756",
          "exception": false,
          "start_time": "2020-12-22T00:37:28.080710",
          "status": "completed"
        },
        "tags": [],
        "id": "bX7wnHyFoRV4",
        "outputId": "d3f99838-3fd5-4db0-e91c-c4eaea007823"
      },
      "outputs": [
        {
          "name": "stdout",
          "output_type": "stream",
          "text": [
            "/kaggle/input/iris/Iris.csv\n",
            "/kaggle/input/iris/database.sqlite\n"
          ]
        }
      ],
      "source": [
        "# This Python 3 environment comes with many helpful analytics libraries installed\n",
        "# It is defined by the kaggle/python Docker image: https://github.com/kaggle/docker-python\n",
        "# For example, here's several helpful packages to load\n",
        "\n",
        "import numpy as np # linear algebra\n",
        "import pandas as pd # data processing, CSV file I/O (e.g. pd.read_csv)\n",
        "\n",
        "# Input data files are available in the read-only \"../input/\" directory\n",
        "# For example, running this (by clicking run or pressing Shift+Enter) will list all files under the input directory\n",
        "\n",
        "import os\n",
        "for dirname, _, filenames in os.walk('/kaggle/input'):\n",
        "    for filename in filenames:\n",
        "        print(os.path.join(dirname, filename))\n",
        "\n",
        "# You can write up to 20GB to the current directory (/kaggle/working/) that gets preserved as output when you create a version using \"Save & Run All\"\n",
        "# You can also write temporary files to /kaggle/temp/, but they won't be saved outside of the current session"
      ]
    },
    {
      "cell_type": "markdown",
      "metadata": {
        "_cell_guid": "79c7e3d0-c299-4dcb-8224-4455121ee9b0",
        "_uuid": "d629ff2d2480ee46fbb7e2d37f6b5fab8052498a",
        "collapsed": true,
        "papermill": {
          "duration": 0.021993,
          "end_time": "2020-12-22T00:37:28.176958",
          "exception": false,
          "start_time": "2020-12-22T00:37:28.154965",
          "status": "completed"
        },
        "tags": [],
        "id": "7nUvlUyfoRWC"
      },
      "source": [
        "## Importing Libraries"
      ]
    },
    {
      "cell_type": "code",
      "execution_count": 1,
      "metadata": {
        "execution": {
          "iopub.execute_input": "2020-12-22T00:37:28.231828Z",
          "iopub.status.busy": "2020-12-22T00:37:28.231079Z",
          "iopub.status.idle": "2020-12-22T00:37:28.233738Z",
          "shell.execute_reply": "2020-12-22T00:37:28.234316Z"
        },
        "papermill": {
          "duration": 0.032978,
          "end_time": "2020-12-22T00:37:28.234493",
          "exception": false,
          "start_time": "2020-12-22T00:37:28.201515",
          "status": "completed"
        },
        "tags": [],
        "id": "AtDbOfu_oRWH"
      },
      "outputs": [],
      "source": [
        "import pandas as pd                            # File Handling\n",
        "import numpy as np                             # Mathematical Computation"
      ]
    },
    {
      "cell_type": "code",
      "execution_count": 2,
      "metadata": {
        "execution": {
          "iopub.execute_input": "2020-12-22T00:37:28.284460Z",
          "iopub.status.busy": "2020-12-22T00:37:28.283736Z",
          "iopub.status.idle": "2020-12-22T00:37:29.465906Z",
          "shell.execute_reply": "2020-12-22T00:37:29.465218Z"
        },
        "papermill": {
          "duration": 1.2084,
          "end_time": "2020-12-22T00:37:29.466077",
          "exception": false,
          "start_time": "2020-12-22T00:37:28.257677",
          "status": "completed"
        },
        "tags": [],
        "id": "HF5jN7TEoRWI"
      },
      "outputs": [],
      "source": [
        "from sklearn.model_selection import train_test_split                # Splitting Dataset into Train/Test sets"
      ]
    },
    {
      "cell_type": "code",
      "execution_count": 3,
      "metadata": {
        "execution": {
          "iopub.execute_input": "2020-12-22T00:37:29.520423Z",
          "iopub.status.busy": "2020-12-22T00:37:29.519311Z",
          "iopub.status.idle": "2020-12-22T00:37:29.747266Z",
          "shell.execute_reply": "2020-12-22T00:37:29.746481Z"
        },
        "papermill": {
          "duration": 0.257029,
          "end_time": "2020-12-22T00:37:29.747411",
          "exception": false,
          "start_time": "2020-12-22T00:37:29.490382",
          "status": "completed"
        },
        "tags": [],
        "id": "pGFgBjKwoRWJ"
      },
      "outputs": [],
      "source": [
        "from sklearn.tree import DecisionTreeClassifier                     # For implementing Decision Tree classifier"
      ]
    },
    {
      "cell_type": "code",
      "execution_count": 4,
      "metadata": {
        "execution": {
          "iopub.execute_input": "2020-12-22T00:37:29.800719Z",
          "iopub.status.busy": "2020-12-22T00:37:29.799922Z",
          "iopub.status.idle": "2020-12-22T00:37:29.803585Z",
          "shell.execute_reply": "2020-12-22T00:37:29.802906Z"
        },
        "papermill": {
          "duration": 0.033288,
          "end_time": "2020-12-22T00:37:29.803719",
          "exception": false,
          "start_time": "2020-12-22T00:37:29.770431",
          "status": "completed"
        },
        "tags": [],
        "id": "GhX_o32_oRWK"
      },
      "outputs": [],
      "source": [
        "from sklearn.metrics import accuracy_score                          # For calculating accuracy\n",
        "from sklearn.metrics import classification_report                   # For evaluating the model"
      ]
    },
    {
      "cell_type": "code",
      "execution_count": 5,
      "metadata": {
        "execution": {
          "iopub.execute_input": "2020-12-22T00:37:29.860911Z",
          "iopub.status.busy": "2020-12-22T00:37:29.860126Z",
          "iopub.status.idle": "2020-12-22T00:37:29.864315Z",
          "shell.execute_reply": "2020-12-22T00:37:29.863647Z"
        },
        "papermill": {
          "duration": 0.035571,
          "end_time": "2020-12-22T00:37:29.864456",
          "exception": false,
          "start_time": "2020-12-22T00:37:29.828885",
          "status": "completed"
        },
        "tags": [],
        "id": "Owip0zivoRWL"
      },
      "outputs": [],
      "source": [
        "from sklearn import tree                                            # Visualizing Decision Tree"
      ]
    },
    {
      "cell_type": "markdown",
      "metadata": {
        "papermill": {
          "duration": 0.022675,
          "end_time": "2020-12-22T00:37:29.911459",
          "exception": false,
          "start_time": "2020-12-22T00:37:29.888784",
          "status": "completed"
        },
        "tags": [],
        "id": "GNSjvvThoRWM"
      },
      "source": [
        "## Loading Dataset"
      ]
    },
    {
      "cell_type": "code",
      "execution_count": 6,
      "metadata": {
        "execution": {
          "iopub.execute_input": "2020-12-22T00:37:29.973291Z",
          "iopub.status.busy": "2020-12-22T00:37:29.972520Z",
          "iopub.status.idle": "2020-12-22T00:37:29.989008Z",
          "shell.execute_reply": "2020-12-22T00:37:29.988383Z"
        },
        "papermill": {
          "duration": 0.050994,
          "end_time": "2020-12-22T00:37:29.989154",
          "exception": false,
          "start_time": "2020-12-22T00:37:29.938160",
          "status": "completed"
        },
        "tags": [],
        "id": "7TvGSgrxoRWN"
      },
      "outputs": [],
      "source": [
        "Dataset = pd.read_csv(\"sample_data/Iris.csv\")"
      ]
    },
    {
      "cell_type": "code",
      "execution_count": 7,
      "metadata": {
        "execution": {
          "iopub.execute_input": "2020-12-22T00:37:30.049555Z",
          "iopub.status.busy": "2020-12-22T00:37:30.044922Z",
          "iopub.status.idle": "2020-12-22T00:37:30.083342Z",
          "shell.execute_reply": "2020-12-22T00:37:30.082534Z"
        },
        "papermill": {
          "duration": 0.067177,
          "end_time": "2020-12-22T00:37:30.083487",
          "exception": false,
          "start_time": "2020-12-22T00:37:30.016310",
          "status": "completed"
        },
        "tags": [],
        "id": "SZ1OHxnKoRWO"
      },
      "outputs": [],
      "source": [
        "Dataset = Dataset.dropna()                     # Dropping empty rows"
      ]
    },
    {
      "cell_type": "code",
      "execution_count": 8,
      "metadata": {
        "execution": {
          "iopub.execute_input": "2020-12-22T00:37:30.155818Z",
          "iopub.status.busy": "2020-12-22T00:37:30.154642Z",
          "iopub.status.idle": "2020-12-22T00:37:30.168125Z",
          "shell.execute_reply": "2020-12-22T00:37:30.167387Z"
        },
        "papermill": {
          "duration": 0.05818,
          "end_time": "2020-12-22T00:37:30.168283",
          "exception": false,
          "start_time": "2020-12-22T00:37:30.110103",
          "status": "completed"
        },
        "tags": [],
        "colab": {
          "base_uri": "https://localhost:8080/",
          "height": 206
        },
        "id": "U3F7AyUioRWP",
        "outputId": "eb161752-1046-4b2d-c2c2-2db0a59cb66c"
      },
      "outputs": [
        {
          "output_type": "execute_result",
          "data": {
            "text/plain": [
              "   Id  SepalLengthCm  SepalWidthCm  PetalLengthCm  PetalWidthCm      Species\n",
              "0   1            5.1           3.5            1.4           0.2  Iris-setosa\n",
              "1   2            4.9           3.0            1.4           0.2  Iris-setosa\n",
              "2   3            4.7           3.2            1.3           0.2  Iris-setosa\n",
              "3   4            4.6           3.1            1.5           0.2  Iris-setosa\n",
              "4   5            5.0           3.6            1.4           0.2  Iris-setosa"
            ],
            "text/html": [
              "\n",
              "  <div id=\"df-842204ba-d798-46bf-b083-848ee1da38a6\">\n",
              "    <div class=\"colab-df-container\">\n",
              "      <div>\n",
              "<style scoped>\n",
              "    .dataframe tbody tr th:only-of-type {\n",
              "        vertical-align: middle;\n",
              "    }\n",
              "\n",
              "    .dataframe tbody tr th {\n",
              "        vertical-align: top;\n",
              "    }\n",
              "\n",
              "    .dataframe thead th {\n",
              "        text-align: right;\n",
              "    }\n",
              "</style>\n",
              "<table border=\"1\" class=\"dataframe\">\n",
              "  <thead>\n",
              "    <tr style=\"text-align: right;\">\n",
              "      <th></th>\n",
              "      <th>Id</th>\n",
              "      <th>SepalLengthCm</th>\n",
              "      <th>SepalWidthCm</th>\n",
              "      <th>PetalLengthCm</th>\n",
              "      <th>PetalWidthCm</th>\n",
              "      <th>Species</th>\n",
              "    </tr>\n",
              "  </thead>\n",
              "  <tbody>\n",
              "    <tr>\n",
              "      <th>0</th>\n",
              "      <td>1</td>\n",
              "      <td>5.1</td>\n",
              "      <td>3.5</td>\n",
              "      <td>1.4</td>\n",
              "      <td>0.2</td>\n",
              "      <td>Iris-setosa</td>\n",
              "    </tr>\n",
              "    <tr>\n",
              "      <th>1</th>\n",
              "      <td>2</td>\n",
              "      <td>4.9</td>\n",
              "      <td>3.0</td>\n",
              "      <td>1.4</td>\n",
              "      <td>0.2</td>\n",
              "      <td>Iris-setosa</td>\n",
              "    </tr>\n",
              "    <tr>\n",
              "      <th>2</th>\n",
              "      <td>3</td>\n",
              "      <td>4.7</td>\n",
              "      <td>3.2</td>\n",
              "      <td>1.3</td>\n",
              "      <td>0.2</td>\n",
              "      <td>Iris-setosa</td>\n",
              "    </tr>\n",
              "    <tr>\n",
              "      <th>3</th>\n",
              "      <td>4</td>\n",
              "      <td>4.6</td>\n",
              "      <td>3.1</td>\n",
              "      <td>1.5</td>\n",
              "      <td>0.2</td>\n",
              "      <td>Iris-setosa</td>\n",
              "    </tr>\n",
              "    <tr>\n",
              "      <th>4</th>\n",
              "      <td>5</td>\n",
              "      <td>5.0</td>\n",
              "      <td>3.6</td>\n",
              "      <td>1.4</td>\n",
              "      <td>0.2</td>\n",
              "      <td>Iris-setosa</td>\n",
              "    </tr>\n",
              "  </tbody>\n",
              "</table>\n",
              "</div>\n",
              "      <button class=\"colab-df-convert\" onclick=\"convertToInteractive('df-842204ba-d798-46bf-b083-848ee1da38a6')\"\n",
              "              title=\"Convert this dataframe to an interactive table.\"\n",
              "              style=\"display:none;\">\n",
              "        \n",
              "  <svg xmlns=\"http://www.w3.org/2000/svg\" height=\"24px\"viewBox=\"0 0 24 24\"\n",
              "       width=\"24px\">\n",
              "    <path d=\"M0 0h24v24H0V0z\" fill=\"none\"/>\n",
              "    <path d=\"M18.56 5.44l.94 2.06.94-2.06 2.06-.94-2.06-.94-.94-2.06-.94 2.06-2.06.94zm-11 1L8.5 8.5l.94-2.06 2.06-.94-2.06-.94L8.5 2.5l-.94 2.06-2.06.94zm10 10l.94 2.06.94-2.06 2.06-.94-2.06-.94-.94-2.06-.94 2.06-2.06.94z\"/><path d=\"M17.41 7.96l-1.37-1.37c-.4-.4-.92-.59-1.43-.59-.52 0-1.04.2-1.43.59L10.3 9.45l-7.72 7.72c-.78.78-.78 2.05 0 2.83L4 21.41c.39.39.9.59 1.41.59.51 0 1.02-.2 1.41-.59l7.78-7.78 2.81-2.81c.8-.78.8-2.07 0-2.86zM5.41 20L4 18.59l7.72-7.72 1.47 1.35L5.41 20z\"/>\n",
              "  </svg>\n",
              "      </button>\n",
              "      \n",
              "  <style>\n",
              "    .colab-df-container {\n",
              "      display:flex;\n",
              "      flex-wrap:wrap;\n",
              "      gap: 12px;\n",
              "    }\n",
              "\n",
              "    .colab-df-convert {\n",
              "      background-color: #E8F0FE;\n",
              "      border: none;\n",
              "      border-radius: 50%;\n",
              "      cursor: pointer;\n",
              "      display: none;\n",
              "      fill: #1967D2;\n",
              "      height: 32px;\n",
              "      padding: 0 0 0 0;\n",
              "      width: 32px;\n",
              "    }\n",
              "\n",
              "    .colab-df-convert:hover {\n",
              "      background-color: #E2EBFA;\n",
              "      box-shadow: 0px 1px 2px rgba(60, 64, 67, 0.3), 0px 1px 3px 1px rgba(60, 64, 67, 0.15);\n",
              "      fill: #174EA6;\n",
              "    }\n",
              "\n",
              "    [theme=dark] .colab-df-convert {\n",
              "      background-color: #3B4455;\n",
              "      fill: #D2E3FC;\n",
              "    }\n",
              "\n",
              "    [theme=dark] .colab-df-convert:hover {\n",
              "      background-color: #434B5C;\n",
              "      box-shadow: 0px 1px 3px 1px rgba(0, 0, 0, 0.15);\n",
              "      filter: drop-shadow(0px 1px 2px rgba(0, 0, 0, 0.3));\n",
              "      fill: #FFFFFF;\n",
              "    }\n",
              "  </style>\n",
              "\n",
              "      <script>\n",
              "        const buttonEl =\n",
              "          document.querySelector('#df-842204ba-d798-46bf-b083-848ee1da38a6 button.colab-df-convert');\n",
              "        buttonEl.style.display =\n",
              "          google.colab.kernel.accessAllowed ? 'block' : 'none';\n",
              "\n",
              "        async function convertToInteractive(key) {\n",
              "          const element = document.querySelector('#df-842204ba-d798-46bf-b083-848ee1da38a6');\n",
              "          const dataTable =\n",
              "            await google.colab.kernel.invokeFunction('convertToInteractive',\n",
              "                                                     [key], {});\n",
              "          if (!dataTable) return;\n",
              "\n",
              "          const docLinkHtml = 'Like what you see? Visit the ' +\n",
              "            '<a target=\"_blank\" href=https://colab.research.google.com/notebooks/data_table.ipynb>data table notebook</a>'\n",
              "            + ' to learn more about interactive tables.';\n",
              "          element.innerHTML = '';\n",
              "          dataTable['output_type'] = 'display_data';\n",
              "          await google.colab.output.renderOutput(dataTable, element);\n",
              "          const docLink = document.createElement('div');\n",
              "          docLink.innerHTML = docLinkHtml;\n",
              "          element.appendChild(docLink);\n",
              "        }\n",
              "      </script>\n",
              "    </div>\n",
              "  </div>\n",
              "  "
            ]
          },
          "metadata": {},
          "execution_count": 8
        }
      ],
      "source": [
        "Dataset.head()"
      ]
    },
    {
      "cell_type": "code",
      "execution_count": 9,
      "metadata": {
        "execution": {
          "iopub.execute_input": "2020-12-22T00:37:30.225836Z",
          "iopub.status.busy": "2020-12-22T00:37:30.225015Z",
          "iopub.status.idle": "2020-12-22T00:37:30.230810Z",
          "shell.execute_reply": "2020-12-22T00:37:30.230154Z"
        },
        "papermill": {
          "duration": 0.037095,
          "end_time": "2020-12-22T00:37:30.230960",
          "exception": false,
          "start_time": "2020-12-22T00:37:30.193865",
          "status": "completed"
        },
        "tags": [],
        "colab": {
          "base_uri": "https://localhost:8080/"
        },
        "id": "7TPKgcbGoRWR",
        "outputId": "1fb68a0c-113f-4a6c-a098-ec23627784e5"
      },
      "outputs": [
        {
          "output_type": "execute_result",
          "data": {
            "text/plain": [
              "(150, 6)"
            ]
          },
          "metadata": {},
          "execution_count": 9
        }
      ],
      "source": [
        "Dataset.shape"
      ]
    },
    {
      "cell_type": "code",
      "execution_count": 10,
      "metadata": {
        "execution": {
          "iopub.execute_input": "2020-12-22T00:37:30.299566Z",
          "iopub.status.busy": "2020-12-22T00:37:30.298648Z",
          "iopub.status.idle": "2020-12-22T00:37:30.303101Z",
          "shell.execute_reply": "2020-12-22T00:37:30.302541Z"
        },
        "papermill": {
          "duration": 0.037073,
          "end_time": "2020-12-22T00:37:30.303246",
          "exception": false,
          "start_time": "2020-12-22T00:37:30.266173",
          "status": "completed"
        },
        "tags": [],
        "colab": {
          "base_uri": "https://localhost:8080/"
        },
        "id": "eYuQYWBLoRWT",
        "outputId": "04d07ed1-9e6a-41cd-98ea-e98ae8cd1367"
      },
      "outputs": [
        {
          "output_type": "execute_result",
          "data": {
            "text/plain": [
              "array(['Iris-setosa', 'Iris-versicolor', 'Iris-virginica'], dtype=object)"
            ]
          },
          "metadata": {},
          "execution_count": 10
        }
      ],
      "source": [
        "Dataset[\"Species\"].unique()                      # Unique values of Species"
      ]
    },
    {
      "cell_type": "markdown",
      "metadata": {
        "papermill": {
          "duration": 0.026368,
          "end_time": "2020-12-22T00:37:30.356471",
          "exception": false,
          "start_time": "2020-12-22T00:37:30.330103",
          "status": "completed"
        },
        "tags": [],
        "id": "GHKJp54aoRWU"
      },
      "source": [
        "## Changing Species Name to Numbers"
      ]
    },
    {
      "cell_type": "code",
      "execution_count": 11,
      "metadata": {
        "execution": {
          "iopub.execute_input": "2020-12-22T00:37:30.421395Z",
          "iopub.status.busy": "2020-12-22T00:37:30.420092Z",
          "iopub.status.idle": "2020-12-22T00:37:30.424301Z",
          "shell.execute_reply": "2020-12-22T00:37:30.423549Z"
        },
        "papermill": {
          "duration": 0.041123,
          "end_time": "2020-12-22T00:37:30.424556",
          "exception": false,
          "start_time": "2020-12-22T00:37:30.383433",
          "status": "completed"
        },
        "tags": [],
        "id": "zGNpON22oRWV"
      },
      "outputs": [],
      "source": [
        "Dataset = Dataset.replace(to_replace =\"Iris-setosa\",          value =\"0\")\n",
        "Dataset = Dataset.replace(to_replace =\"Iris-versicolor\",      value =\"1\")\n",
        "Dataset = Dataset.replace(to_replace =\"Iris-virginica\",       value =\"2\")"
      ]
    },
    {
      "cell_type": "markdown",
      "metadata": {
        "papermill": {
          "duration": 0.026333,
          "end_time": "2020-12-22T00:37:30.478637",
          "exception": false,
          "start_time": "2020-12-22T00:37:30.452304",
          "status": "completed"
        },
        "tags": [],
        "id": "wfY3PpL-oRWW"
      },
      "source": [
        "## Splitting Input and Targets"
      ]
    },
    {
      "cell_type": "code",
      "execution_count": 12,
      "metadata": {
        "execution": {
          "iopub.execute_input": "2020-12-22T00:37:30.543990Z",
          "iopub.status.busy": "2020-12-22T00:37:30.543032Z",
          "iopub.status.idle": "2020-12-22T00:37:30.547076Z",
          "shell.execute_reply": "2020-12-22T00:37:30.546275Z"
        },
        "papermill": {
          "duration": 0.040778,
          "end_time": "2020-12-22T00:37:30.547244",
          "exception": false,
          "start_time": "2020-12-22T00:37:30.506466",
          "status": "completed"
        },
        "tags": [],
        "id": "2Y97kfa6oRWX"
      },
      "outputs": [],
      "source": [
        "X = np.array(Dataset[['SepalLengthCm', 'SepalWidthCm', 'PetalLengthCm', 'PetalWidthCm']])                   # Input\n",
        "Y = np.array(Dataset[\"Species\"])                                                                            # Targets"
      ]
    },
    {
      "cell_type": "markdown",
      "metadata": {
        "papermill": {
          "duration": 0.02639,
          "end_time": "2020-12-22T00:37:30.600564",
          "exception": false,
          "start_time": "2020-12-22T00:37:30.574174",
          "status": "completed"
        },
        "tags": [],
        "id": "LQjw91tQoRWY"
      },
      "source": [
        "## Splitting Dataset into Train/Test set"
      ]
    },
    {
      "cell_type": "code",
      "execution_count": 13,
      "metadata": {
        "execution": {
          "iopub.execute_input": "2020-12-22T00:37:30.662810Z",
          "iopub.status.busy": "2020-12-22T00:37:30.662069Z",
          "iopub.status.idle": "2020-12-22T00:37:30.665381Z",
          "shell.execute_reply": "2020-12-22T00:37:30.664635Z"
        },
        "papermill": {
          "duration": 0.036568,
          "end_time": "2020-12-22T00:37:30.665515",
          "exception": false,
          "start_time": "2020-12-22T00:37:30.628947",
          "status": "completed"
        },
        "tags": [],
        "id": "qj7WwxvxoRWY"
      },
      "outputs": [],
      "source": [
        "X_train, X_test, Y_train, Y_test = train_test_split(X, Y, test_size=0.2, random_state = 100)                                    # 80:20"
      ]
    },
    {
      "cell_type": "markdown",
      "metadata": {
        "papermill": {
          "duration": 0.026447,
          "end_time": "2020-12-22T00:37:30.717818",
          "exception": false,
          "start_time": "2020-12-22T00:37:30.691371",
          "status": "completed"
        },
        "tags": [],
        "id": "NSiOWvtjoRWZ"
      },
      "source": [
        "## Training Decision Tree"
      ]
    },
    {
      "cell_type": "markdown",
      "metadata": {
        "papermill": {
          "duration": 0.025364,
          "end_time": "2020-12-22T00:37:30.769867",
          "exception": false,
          "start_time": "2020-12-22T00:37:30.744503",
          "status": "completed"
        },
        "tags": [],
        "id": "Sz3hMTTAoRWa"
      },
      "source": [
        "#### Using Gini Index"
      ]
    },
    {
      "cell_type": "code",
      "execution_count": 14,
      "metadata": {
        "execution": {
          "iopub.execute_input": "2020-12-22T00:37:30.831308Z",
          "iopub.status.busy": "2020-12-22T00:37:30.830444Z",
          "iopub.status.idle": "2020-12-22T00:37:30.833821Z",
          "shell.execute_reply": "2020-12-22T00:37:30.833048Z"
        },
        "papermill": {
          "duration": 0.03784,
          "end_time": "2020-12-22T00:37:30.833963",
          "exception": false,
          "start_time": "2020-12-22T00:37:30.796123",
          "status": "completed"
        },
        "tags": [],
        "id": "EiptCGmJoRWa"
      },
      "outputs": [],
      "source": [
        "clf_gini = DecisionTreeClassifier(criterion = \"gini\",                # Criterion\n",
        "                                  max_depth = 5,                     # Max Height of Tree\n",
        "                                  min_samples_leaf = 3,              # Maximum Leaf samples\n",
        "                                  random_state = 100)"
      ]
    },
    {
      "cell_type": "code",
      "execution_count": 15,
      "metadata": {
        "execution": {
          "iopub.execute_input": "2020-12-22T00:37:30.896706Z",
          "iopub.status.busy": "2020-12-22T00:37:30.895916Z",
          "iopub.status.idle": "2020-12-22T00:37:30.911588Z",
          "shell.execute_reply": "2020-12-22T00:37:30.910836Z"
        },
        "papermill": {
          "duration": 0.047804,
          "end_time": "2020-12-22T00:37:30.911738",
          "exception": false,
          "start_time": "2020-12-22T00:37:30.863934",
          "status": "completed"
        },
        "tags": [],
        "colab": {
          "base_uri": "https://localhost:8080/",
          "height": 74
        },
        "id": "tNdTpEGdoRWb",
        "outputId": "5675ae44-8d11-4e3d-e1c4-a91fb9fa5177"
      },
      "outputs": [
        {
          "output_type": "execute_result",
          "data": {
            "text/plain": [
              "DecisionTreeClassifier(max_depth=5, min_samples_leaf=3, random_state=100)"
            ],
            "text/html": [
              "<style>#sk-container-id-1 {color: black;background-color: white;}#sk-container-id-1 pre{padding: 0;}#sk-container-id-1 div.sk-toggleable {background-color: white;}#sk-container-id-1 label.sk-toggleable__label {cursor: pointer;display: block;width: 100%;margin-bottom: 0;padding: 0.3em;box-sizing: border-box;text-align: center;}#sk-container-id-1 label.sk-toggleable__label-arrow:before {content: \"▸\";float: left;margin-right: 0.25em;color: #696969;}#sk-container-id-1 label.sk-toggleable__label-arrow:hover:before {color: black;}#sk-container-id-1 div.sk-estimator:hover label.sk-toggleable__label-arrow:before {color: black;}#sk-container-id-1 div.sk-toggleable__content {max-height: 0;max-width: 0;overflow: hidden;text-align: left;background-color: #f0f8ff;}#sk-container-id-1 div.sk-toggleable__content pre {margin: 0.2em;color: black;border-radius: 0.25em;background-color: #f0f8ff;}#sk-container-id-1 input.sk-toggleable__control:checked~div.sk-toggleable__content {max-height: 200px;max-width: 100%;overflow: auto;}#sk-container-id-1 input.sk-toggleable__control:checked~label.sk-toggleable__label-arrow:before {content: \"▾\";}#sk-container-id-1 div.sk-estimator input.sk-toggleable__control:checked~label.sk-toggleable__label {background-color: #d4ebff;}#sk-container-id-1 div.sk-label input.sk-toggleable__control:checked~label.sk-toggleable__label {background-color: #d4ebff;}#sk-container-id-1 input.sk-hidden--visually {border: 0;clip: rect(1px 1px 1px 1px);clip: rect(1px, 1px, 1px, 1px);height: 1px;margin: -1px;overflow: hidden;padding: 0;position: absolute;width: 1px;}#sk-container-id-1 div.sk-estimator {font-family: monospace;background-color: #f0f8ff;border: 1px dotted black;border-radius: 0.25em;box-sizing: border-box;margin-bottom: 0.5em;}#sk-container-id-1 div.sk-estimator:hover {background-color: #d4ebff;}#sk-container-id-1 div.sk-parallel-item::after {content: \"\";width: 100%;border-bottom: 1px solid gray;flex-grow: 1;}#sk-container-id-1 div.sk-label:hover label.sk-toggleable__label {background-color: #d4ebff;}#sk-container-id-1 div.sk-serial::before {content: \"\";position: absolute;border-left: 1px solid gray;box-sizing: border-box;top: 0;bottom: 0;left: 50%;z-index: 0;}#sk-container-id-1 div.sk-serial {display: flex;flex-direction: column;align-items: center;background-color: white;padding-right: 0.2em;padding-left: 0.2em;position: relative;}#sk-container-id-1 div.sk-item {position: relative;z-index: 1;}#sk-container-id-1 div.sk-parallel {display: flex;align-items: stretch;justify-content: center;background-color: white;position: relative;}#sk-container-id-1 div.sk-item::before, #sk-container-id-1 div.sk-parallel-item::before {content: \"\";position: absolute;border-left: 1px solid gray;box-sizing: border-box;top: 0;bottom: 0;left: 50%;z-index: -1;}#sk-container-id-1 div.sk-parallel-item {display: flex;flex-direction: column;z-index: 1;position: relative;background-color: white;}#sk-container-id-1 div.sk-parallel-item:first-child::after {align-self: flex-end;width: 50%;}#sk-container-id-1 div.sk-parallel-item:last-child::after {align-self: flex-start;width: 50%;}#sk-container-id-1 div.sk-parallel-item:only-child::after {width: 0;}#sk-container-id-1 div.sk-dashed-wrapped {border: 1px dashed gray;margin: 0 0.4em 0.5em 0.4em;box-sizing: border-box;padding-bottom: 0.4em;background-color: white;}#sk-container-id-1 div.sk-label label {font-family: monospace;font-weight: bold;display: inline-block;line-height: 1.2em;}#sk-container-id-1 div.sk-label-container {text-align: center;}#sk-container-id-1 div.sk-container {/* jupyter's `normalize.less` sets `[hidden] { display: none; }` but bootstrap.min.css set `[hidden] { display: none !important; }` so we also need the `!important` here to be able to override the default hidden behavior on the sphinx rendered scikit-learn.org. See: https://github.com/scikit-learn/scikit-learn/issues/21755 */display: inline-block !important;position: relative;}#sk-container-id-1 div.sk-text-repr-fallback {display: none;}</style><div id=\"sk-container-id-1\" class=\"sk-top-container\"><div class=\"sk-text-repr-fallback\"><pre>DecisionTreeClassifier(max_depth=5, min_samples_leaf=3, random_state=100)</pre><b>In a Jupyter environment, please rerun this cell to show the HTML representation or trust the notebook. <br />On GitHub, the HTML representation is unable to render, please try loading this page with nbviewer.org.</b></div><div class=\"sk-container\" hidden><div class=\"sk-item\"><div class=\"sk-estimator sk-toggleable\"><input class=\"sk-toggleable__control sk-hidden--visually\" id=\"sk-estimator-id-1\" type=\"checkbox\" checked><label for=\"sk-estimator-id-1\" class=\"sk-toggleable__label sk-toggleable__label-arrow\">DecisionTreeClassifier</label><div class=\"sk-toggleable__content\"><pre>DecisionTreeClassifier(max_depth=5, min_samples_leaf=3, random_state=100)</pre></div></div></div></div></div>"
            ]
          },
          "metadata": {},
          "execution_count": 15
        }
      ],
      "source": [
        "clf_gini.fit(X_train, Y_train)                                       # Training the Model"
      ]
    },
    {
      "cell_type": "markdown",
      "metadata": {
        "papermill": {
          "duration": 0.031346,
          "end_time": "2020-12-22T00:37:30.973247",
          "exception": false,
          "start_time": "2020-12-22T00:37:30.941901",
          "status": "completed"
        },
        "tags": [],
        "id": "eaGdDxZDoRWc"
      },
      "source": [
        "#### Using Entropy"
      ]
    },
    {
      "cell_type": "code",
      "execution_count": 16,
      "metadata": {
        "execution": {
          "iopub.execute_input": "2020-12-22T00:37:31.039603Z",
          "iopub.status.busy": "2020-12-22T00:37:31.038073Z",
          "iopub.status.idle": "2020-12-22T00:37:31.043380Z",
          "shell.execute_reply": "2020-12-22T00:37:31.042468Z"
        },
        "papermill": {
          "duration": 0.041819,
          "end_time": "2020-12-22T00:37:31.043519",
          "exception": false,
          "start_time": "2020-12-22T00:37:31.001700",
          "status": "completed"
        },
        "tags": [],
        "id": "kJERyYEboRWd"
      },
      "outputs": [],
      "source": [
        "clf_entropy = DecisionTreeClassifier(criterion = \"entropy\",          # Criterion\n",
        "                                     max_depth = 5,                  # Max Height of Tree\n",
        "                                     min_samples_leaf = 3,           # Max Leaf samples\n",
        "                                     random_state = 100)"
      ]
    },
    {
      "cell_type": "code",
      "execution_count": 17,
      "metadata": {
        "execution": {
          "iopub.execute_input": "2020-12-22T00:37:31.131804Z",
          "iopub.status.busy": "2020-12-22T00:37:31.130843Z",
          "iopub.status.idle": "2020-12-22T00:37:31.134537Z",
          "shell.execute_reply": "2020-12-22T00:37:31.132529Z"
        },
        "papermill": {
          "duration": 0.059094,
          "end_time": "2020-12-22T00:37:31.134684",
          "exception": false,
          "start_time": "2020-12-22T00:37:31.075590",
          "status": "completed"
        },
        "tags": [],
        "colab": {
          "base_uri": "https://localhost:8080/",
          "height": 92
        },
        "id": "Nf0NX5oDoRWe",
        "outputId": "ffc833fb-3964-4253-ea73-2ca37ce71b2d"
      },
      "outputs": [
        {
          "output_type": "execute_result",
          "data": {
            "text/plain": [
              "DecisionTreeClassifier(criterion='entropy', max_depth=5, min_samples_leaf=3,\n",
              "                       random_state=100)"
            ],
            "text/html": [
              "<style>#sk-container-id-2 {color: black;background-color: white;}#sk-container-id-2 pre{padding: 0;}#sk-container-id-2 div.sk-toggleable {background-color: white;}#sk-container-id-2 label.sk-toggleable__label {cursor: pointer;display: block;width: 100%;margin-bottom: 0;padding: 0.3em;box-sizing: border-box;text-align: center;}#sk-container-id-2 label.sk-toggleable__label-arrow:before {content: \"▸\";float: left;margin-right: 0.25em;color: #696969;}#sk-container-id-2 label.sk-toggleable__label-arrow:hover:before {color: black;}#sk-container-id-2 div.sk-estimator:hover label.sk-toggleable__label-arrow:before {color: black;}#sk-container-id-2 div.sk-toggleable__content {max-height: 0;max-width: 0;overflow: hidden;text-align: left;background-color: #f0f8ff;}#sk-container-id-2 div.sk-toggleable__content pre {margin: 0.2em;color: black;border-radius: 0.25em;background-color: #f0f8ff;}#sk-container-id-2 input.sk-toggleable__control:checked~div.sk-toggleable__content {max-height: 200px;max-width: 100%;overflow: auto;}#sk-container-id-2 input.sk-toggleable__control:checked~label.sk-toggleable__label-arrow:before {content: \"▾\";}#sk-container-id-2 div.sk-estimator input.sk-toggleable__control:checked~label.sk-toggleable__label {background-color: #d4ebff;}#sk-container-id-2 div.sk-label input.sk-toggleable__control:checked~label.sk-toggleable__label {background-color: #d4ebff;}#sk-container-id-2 input.sk-hidden--visually {border: 0;clip: rect(1px 1px 1px 1px);clip: rect(1px, 1px, 1px, 1px);height: 1px;margin: -1px;overflow: hidden;padding: 0;position: absolute;width: 1px;}#sk-container-id-2 div.sk-estimator {font-family: monospace;background-color: #f0f8ff;border: 1px dotted black;border-radius: 0.25em;box-sizing: border-box;margin-bottom: 0.5em;}#sk-container-id-2 div.sk-estimator:hover {background-color: #d4ebff;}#sk-container-id-2 div.sk-parallel-item::after {content: \"\";width: 100%;border-bottom: 1px solid gray;flex-grow: 1;}#sk-container-id-2 div.sk-label:hover label.sk-toggleable__label {background-color: #d4ebff;}#sk-container-id-2 div.sk-serial::before {content: \"\";position: absolute;border-left: 1px solid gray;box-sizing: border-box;top: 0;bottom: 0;left: 50%;z-index: 0;}#sk-container-id-2 div.sk-serial {display: flex;flex-direction: column;align-items: center;background-color: white;padding-right: 0.2em;padding-left: 0.2em;position: relative;}#sk-container-id-2 div.sk-item {position: relative;z-index: 1;}#sk-container-id-2 div.sk-parallel {display: flex;align-items: stretch;justify-content: center;background-color: white;position: relative;}#sk-container-id-2 div.sk-item::before, #sk-container-id-2 div.sk-parallel-item::before {content: \"\";position: absolute;border-left: 1px solid gray;box-sizing: border-box;top: 0;bottom: 0;left: 50%;z-index: -1;}#sk-container-id-2 div.sk-parallel-item {display: flex;flex-direction: column;z-index: 1;position: relative;background-color: white;}#sk-container-id-2 div.sk-parallel-item:first-child::after {align-self: flex-end;width: 50%;}#sk-container-id-2 div.sk-parallel-item:last-child::after {align-self: flex-start;width: 50%;}#sk-container-id-2 div.sk-parallel-item:only-child::after {width: 0;}#sk-container-id-2 div.sk-dashed-wrapped {border: 1px dashed gray;margin: 0 0.4em 0.5em 0.4em;box-sizing: border-box;padding-bottom: 0.4em;background-color: white;}#sk-container-id-2 div.sk-label label {font-family: monospace;font-weight: bold;display: inline-block;line-height: 1.2em;}#sk-container-id-2 div.sk-label-container {text-align: center;}#sk-container-id-2 div.sk-container {/* jupyter's `normalize.less` sets `[hidden] { display: none; }` but bootstrap.min.css set `[hidden] { display: none !important; }` so we also need the `!important` here to be able to override the default hidden behavior on the sphinx rendered scikit-learn.org. See: https://github.com/scikit-learn/scikit-learn/issues/21755 */display: inline-block !important;position: relative;}#sk-container-id-2 div.sk-text-repr-fallback {display: none;}</style><div id=\"sk-container-id-2\" class=\"sk-top-container\"><div class=\"sk-text-repr-fallback\"><pre>DecisionTreeClassifier(criterion=&#x27;entropy&#x27;, max_depth=5, min_samples_leaf=3,\n",
              "                       random_state=100)</pre><b>In a Jupyter environment, please rerun this cell to show the HTML representation or trust the notebook. <br />On GitHub, the HTML representation is unable to render, please try loading this page with nbviewer.org.</b></div><div class=\"sk-container\" hidden><div class=\"sk-item\"><div class=\"sk-estimator sk-toggleable\"><input class=\"sk-toggleable__control sk-hidden--visually\" id=\"sk-estimator-id-2\" type=\"checkbox\" checked><label for=\"sk-estimator-id-2\" class=\"sk-toggleable__label sk-toggleable__label-arrow\">DecisionTreeClassifier</label><div class=\"sk-toggleable__content\"><pre>DecisionTreeClassifier(criterion=&#x27;entropy&#x27;, max_depth=5, min_samples_leaf=3,\n",
              "                       random_state=100)</pre></div></div></div></div></div>"
            ]
          },
          "metadata": {},
          "execution_count": 17
        }
      ],
      "source": [
        "clf_entropy.fit(X_train, Y_train)                                    # Training the model"
      ]
    },
    {
      "cell_type": "markdown",
      "metadata": {
        "papermill": {
          "duration": 0.029455,
          "end_time": "2020-12-22T00:37:31.194564",
          "exception": false,
          "start_time": "2020-12-22T00:37:31.165109",
          "status": "completed"
        },
        "tags": [],
        "id": "zHjbgRmvoRWf"
      },
      "source": [
        "## Evaluating The model"
      ]
    },
    {
      "cell_type": "markdown",
      "metadata": {
        "papermill": {
          "duration": 0.031739,
          "end_time": "2020-12-22T00:37:31.259493",
          "exception": false,
          "start_time": "2020-12-22T00:37:31.227754",
          "status": "completed"
        },
        "tags": [],
        "id": "XZgwGs80oRWg"
      },
      "source": [
        "#### Gini Index"
      ]
    },
    {
      "cell_type": "code",
      "execution_count": 18,
      "metadata": {
        "execution": {
          "iopub.execute_input": "2020-12-22T00:37:31.338118Z",
          "iopub.status.busy": "2020-12-22T00:37:31.336910Z",
          "iopub.status.idle": "2020-12-22T00:37:31.340663Z",
          "shell.execute_reply": "2020-12-22T00:37:31.339740Z"
        },
        "papermill": {
          "duration": 0.043435,
          "end_time": "2020-12-22T00:37:31.340812",
          "exception": false,
          "start_time": "2020-12-22T00:37:31.297377",
          "status": "completed"
        },
        "tags": [],
        "id": "lkuLA5b4oRWg"
      },
      "outputs": [],
      "source": [
        "y_pred_gini = clf_gini.predict(X_test)                                # Performing Prediction on test input"
      ]
    },
    {
      "cell_type": "code",
      "execution_count": 19,
      "metadata": {
        "execution": {
          "iopub.execute_input": "2020-12-22T00:37:31.408417Z",
          "iopub.status.busy": "2020-12-22T00:37:31.407163Z",
          "iopub.status.idle": "2020-12-22T00:37:31.424097Z",
          "shell.execute_reply": "2020-12-22T00:37:31.425155Z"
        },
        "papermill": {
          "duration": 0.051988,
          "end_time": "2020-12-22T00:37:31.425437",
          "exception": false,
          "start_time": "2020-12-22T00:37:31.373449",
          "status": "completed"
        },
        "tags": [],
        "colab": {
          "base_uri": "https://localhost:8080/"
        },
        "id": "3nsjTVz2oRWh",
        "outputId": "f6a5e3a3-724b-48cf-8b0e-9269747365e6"
      },
      "outputs": [
        {
          "output_type": "stream",
          "name": "stdout",
          "text": [
            "Accuracy :  96.66666666666667\n",
            "Report :                precision    recall  f1-score   support\n",
            "\n",
            "           0       1.00      1.00      1.00        11\n",
            "           1       1.00      0.83      0.91         6\n",
            "           2       0.93      1.00      0.96        13\n",
            "\n",
            "    accuracy                           0.97        30\n",
            "   macro avg       0.98      0.94      0.96        30\n",
            "weighted avg       0.97      0.97      0.97        30\n",
            "\n"
          ]
        }
      ],
      "source": [
        "print (\"Accuracy : \", accuracy_score(Y_test,y_pred_gini)*100)         # Evaulating predictions with test labels\n",
        "print (\"Report : \",  classification_report(Y_test, y_pred_gini))"
      ]
    },
    {
      "cell_type": "markdown",
      "metadata": {
        "papermill": {
          "duration": 0.033583,
          "end_time": "2020-12-22T00:37:31.497390",
          "exception": false,
          "start_time": "2020-12-22T00:37:31.463807",
          "status": "completed"
        },
        "tags": [],
        "id": "EgwHtvA7oRWi"
      },
      "source": [
        "#### Entropy"
      ]
    },
    {
      "cell_type": "code",
      "execution_count": 20,
      "metadata": {
        "execution": {
          "iopub.execute_input": "2020-12-22T00:37:31.584777Z",
          "iopub.status.busy": "2020-12-22T00:37:31.583644Z",
          "iopub.status.idle": "2020-12-22T00:37:31.587943Z",
          "shell.execute_reply": "2020-12-22T00:37:31.588677Z"
        },
        "papermill": {
          "duration": 0.057775,
          "end_time": "2020-12-22T00:37:31.588877",
          "exception": false,
          "start_time": "2020-12-22T00:37:31.531102",
          "status": "completed"
        },
        "tags": [],
        "id": "fP9IKb3JoRWi"
      },
      "outputs": [],
      "source": [
        "y_pred_entropy = clf_entropy.predict(X_test)                                # Performing Prediction on test input"
      ]
    },
    {
      "cell_type": "code",
      "execution_count": 21,
      "metadata": {
        "execution": {
          "iopub.execute_input": "2020-12-22T00:37:31.659636Z",
          "iopub.status.busy": "2020-12-22T00:37:31.658450Z",
          "iopub.status.idle": "2020-12-22T00:37:31.678773Z",
          "shell.execute_reply": "2020-12-22T00:37:31.677759Z"
        },
        "papermill": {
          "duration": 0.058589,
          "end_time": "2020-12-22T00:37:31.678967",
          "exception": false,
          "start_time": "2020-12-22T00:37:31.620378",
          "status": "completed"
        },
        "tags": [],
        "colab": {
          "base_uri": "https://localhost:8080/"
        },
        "id": "fXBwnNyVoRWj",
        "outputId": "23836fd1-26e1-45df-c485-0fe16318b13d"
      },
      "outputs": [
        {
          "output_type": "stream",
          "name": "stdout",
          "text": [
            "Accuracy :  96.66666666666667\n",
            "Report :                precision    recall  f1-score   support\n",
            "\n",
            "           0       1.00      1.00      1.00        11\n",
            "           1       1.00      0.83      0.91         6\n",
            "           2       0.93      1.00      0.96        13\n",
            "\n",
            "    accuracy                           0.97        30\n",
            "   macro avg       0.98      0.94      0.96        30\n",
            "weighted avg       0.97      0.97      0.97        30\n",
            "\n"
          ]
        }
      ],
      "source": [
        "print (\"Accuracy : \", accuracy_score(Y_test,y_pred_entropy)*100)            # Evaulating predictions with test labels\n",
        "print (\"Report : \",  classification_report(Y_test, y_pred_entropy))"
      ]
    },
    {
      "cell_type": "markdown",
      "metadata": {
        "papermill": {
          "duration": 0.033213,
          "end_time": "2020-12-22T00:37:31.743344",
          "exception": false,
          "start_time": "2020-12-22T00:37:31.710131",
          "status": "completed"
        },
        "tags": [],
        "id": "cJnjjB9PoRWk"
      },
      "source": [
        "## Visualizing Decision tree"
      ]
    },
    {
      "cell_type": "markdown",
      "metadata": {
        "papermill": {
          "duration": 0.037487,
          "end_time": "2020-12-22T00:37:31.816341",
          "exception": false,
          "start_time": "2020-12-22T00:37:31.778854",
          "status": "completed"
        },
        "tags": [],
        "id": "2DjC0fW-oRWl"
      },
      "source": [
        "#### Gini Index"
      ]
    },
    {
      "cell_type": "code",
      "execution_count": 22,
      "metadata": {
        "execution": {
          "iopub.execute_input": "2020-12-22T00:37:31.888051Z",
          "iopub.status.busy": "2020-12-22T00:37:31.886876Z",
          "iopub.status.idle": "2020-12-22T00:37:32.323174Z",
          "shell.execute_reply": "2020-12-22T00:37:32.323710Z"
        },
        "papermill": {
          "duration": 0.473796,
          "end_time": "2020-12-22T00:37:32.323899",
          "exception": false,
          "start_time": "2020-12-22T00:37:31.850103",
          "status": "completed"
        },
        "tags": [],
        "colab": {
          "base_uri": "https://localhost:8080/",
          "height": 562
        },
        "id": "6jkHuWrmoRWm",
        "outputId": "60141084-b3fc-4a79-f3fa-953f769d62bf"
      },
      "outputs": [
        {
          "output_type": "execute_result",
          "data": {
            "text/plain": [
              "[Text(0.375, 0.875, 'x[2] <= 2.45\\ngini = 0.665\\nsamples = 120\\nvalue = [39, 44, 37]'),\n",
              " Text(0.25, 0.625, 'gini = 0.0\\nsamples = 39\\nvalue = [39, 0, 0]'),\n",
              " Text(0.5, 0.625, 'x[3] <= 1.65\\ngini = 0.496\\nsamples = 81\\nvalue = [0, 44, 37]'),\n",
              " Text(0.25, 0.375, 'x[2] <= 4.95\\ngini = 0.156\\nsamples = 47\\nvalue = [0, 43, 4]'),\n",
              " Text(0.125, 0.125, 'gini = 0.0\\nsamples = 42\\nvalue = [0, 42, 0]'),\n",
              " Text(0.375, 0.125, 'gini = 0.32\\nsamples = 5\\nvalue = [0, 1, 4]'),\n",
              " Text(0.75, 0.375, 'x[2] <= 4.85\\ngini = 0.057\\nsamples = 34\\nvalue = [0, 1, 33]'),\n",
              " Text(0.625, 0.125, 'gini = 0.375\\nsamples = 4\\nvalue = [0, 1, 3]'),\n",
              " Text(0.875, 0.125, 'gini = 0.0\\nsamples = 30\\nvalue = [0, 0, 30]')]"
            ]
          },
          "metadata": {},
          "execution_count": 22
        },
        {
          "output_type": "display_data",
          "data": {
            "text/plain": [
              "<Figure size 640x480 with 1 Axes>"
            ],
            "image/png": "[encoded data removed]"
          },
          "metadata": {}
        }
      ],
      "source": [
        "tree.plot_tree(clf_gini)"
      ]
    },
    {
      "cell_type": "markdown",
      "metadata": {
        "papermill": {
          "duration": 0.037225,
          "end_time": "2020-12-22T00:37:32.393377",
          "exception": false,
          "start_time": "2020-12-22T00:37:32.356152",
          "status": "completed"
        },
        "tags": [],
        "id": "mR9mrJpgoRWn"
      },
      "source": [
        "#### Entropy"
      ]
    },
    {
      "cell_type": "code",
      "execution_count": 23,
      "metadata": {
        "execution": {
          "iopub.execute_input": "2020-12-22T00:37:32.487684Z",
          "iopub.status.busy": "2020-12-22T00:37:32.486745Z",
          "iopub.status.idle": "2020-12-22T00:37:32.823348Z",
          "shell.execute_reply": "2020-12-22T00:37:32.822249Z"
        },
        "papermill": {
          "duration": 0.394514,
          "end_time": "2020-12-22T00:37:32.823549",
          "exception": false,
          "start_time": "2020-12-22T00:37:32.429035",
          "status": "completed"
        },
        "tags": [],
        "colab": {
          "base_uri": "https://localhost:8080/",
          "height": 562
        },
        "id": "AhlsZwtEoRWn",
        "outputId": "bbc53f0e-8df6-4c3d-93fb-f028311e27e8"
      },
      "outputs": [
        {
          "output_type": "execute_result",
          "data": {
            "text/plain": [
              "[Text(0.375, 0.875, 'x[2] <= 2.45\\nentropy = 1.581\\nsamples = 120\\nvalue = [39, 44, 37]'),\n",
              " Text(0.25, 0.625, 'entropy = 0.0\\nsamples = 39\\nvalue = [39, 0, 0]'),\n",
              " Text(0.5, 0.625, 'x[3] <= 1.65\\nentropy = 0.995\\nsamples = 81\\nvalue = [0, 44, 37]'),\n",
              " Text(0.25, 0.375, 'x[2] <= 4.95\\nentropy = 0.42\\nsamples = 47\\nvalue = [0, 43, 4]'),\n",
              " Text(0.125, 0.125, 'entropy = 0.0\\nsamples = 42\\nvalue = [0, 42, 0]'),\n",
              " Text(0.375, 0.125, 'entropy = 0.722\\nsamples = 5\\nvalue = [0, 1, 4]'),\n",
              " Text(0.75, 0.375, 'x[2] <= 4.85\\nentropy = 0.191\\nsamples = 34\\nvalue = [0, 1, 33]'),\n",
              " Text(0.625, 0.125, 'entropy = 0.811\\nsamples = 4\\nvalue = [0, 1, 3]'),\n",
              " Text(0.875, 0.125, 'entropy = 0.0\\nsamples = 30\\nvalue = [0, 0, 30]')]"
            ]
          },
          "metadata": {},
          "execution_count": 23
        },
        {
          "output_type": "display_data",
          "data": {
            "text/plain": [
              "<Figure size 640x480 with 1 Axes>"
            ],
            "image/png": "[encoded data removed]"
          },
          "metadata": {}
        }
      ],
      "source": [
        "tree.plot_tree(clf_entropy)"
      ]
    }
  ],
  "metadata": {
    "kernelspec": {
      "display_name": "Python 3",
      "language": "python",
      "name": "python3"
    },
    "language_info": {
      "codemirror_mode": {
        "name": "ipython",
        "version": 3
      },
      "file_extension": ".py",
      "mimetype": "text/x-python",
      "name": "python",
      "nbconvert_exporter": "python",
      "pygments_lexer": "ipython3",
      "version": "3.7.6"
    },
    "papermill": {
      "duration": 10.656907,
      "end_time": "2020-12-22T00:37:32.969494",
      "environment_variables": {},
      "exception": null,
      "input_path": "__notebook__.ipynb",
      "output_path": "__notebook__.ipynb",
      "parameters": {},
      "start_time": "2020-12-22T00:37:22.312587",
      "version": "2.1.0"
    },
    "colab": {
      "provenance": []
    }
  },
  "nbformat": 4,
  "nbformat_minor": 0
}