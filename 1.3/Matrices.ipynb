{
  "cells": [
    {
      "cell_type": "code",
      "execution_count": null,
      "metadata": {
        "colab": {
          "base_uri": "https://localhost:8080/",
          "height": 36
        },
        "id": "UkbUGVi1j6BQ",
        "outputId": "0f6fe35f-1b4b-4fa7-cd58-da29c3f6f5cd"
      },
      "outputs": [
        {
          "data": {
            "application/vnd.google.colaboratory.intrinsic+json": {
              "type": "string"
            },
            "text/plain": [
              "'\\nCreated on Tue Feb 16 16:10:13 2016\\n\\n@author: José Arcos Aneas\\n\\nEjercicios de matrices con Python\\n'"
            ]
          },
          "execution_count": 1,
          "metadata": {},
          "output_type": "execute_result"
        }
      ],
      "source": [
        "# -*- coding: utf-8 -*-\n",
        "\"\"\"\n",
        "Created on Tue Feb 16 16:10:13 2016\n",
        "\n",
        "@author: José Arcos Aneas\n",
        "\n",
        "Ejercicios de matrices con Python\n",
        "\"\"\""
      ]
    },
    {
      "cell_type": "markdown",
      "metadata": {
        "id": "SDBsfnUUl7lM"
      },
      "source": [
        "# EJERCICIO :\n",
        "ejecuta el programa y explica las operaciones realizadas con matrices. Si es necesario, investiga los términos que no conoces."
      ]
    },
    {
      "cell_type": "code",
      "execution_count": null,
      "metadata": {
        "id": "f0PGrLXsj6-w"
      },
      "outputs": [],
      "source": [
        "import matplotlib.pyplot as plt # Para gráficos\n",
        "import numpy as np # Para cálculos numéricos\n",
        "import sympy # Para cálculos simbólicos"
      ]
    },
    {
      "cell_type": "code",
      "execution_count": 5,
      "metadata": {
        "id": "KKuwJgF6j9qI"
      },
      "outputs": [],
      "source": [
        "def dibuja_figura():\n",
        "    \"\"\"Crea la figura de pyplot y los ejes.\"\"\"\n",
        "    fix, ax = plt.subplots() # Crea la figura y los ejes\n",
        "    for spine in [\"left\", \"bottom\"]: # Mueve los ejes x e y al centro\n",
        "        ax.spines[spine].set_position(\"zero\") # Pone los ejes en el centro\n",
        "\n",
        "    return ax # Devuelve los ejes creados"
      ]
    },
    {
      "cell_type": "code",
      "execution_count": null,
      "metadata": {
        "id": "KXasoh4ikAX0"
      },
      "outputs": [],
      "source": [
        "# Variable global con los ejes de la figura (para no tener que pasarlos a cada función)\n",
        "def vector_plano(vector, color):\n",
        "    \"\"\"Genera el grafico de los vectores en el plano\"\"\"\n",
        "    v = vector\n",
        "    ax.annotate(\" \", xy=v, xytext=[0, 0], color=color,\n",
        "                arrowprops=dict(facecolor=color,\n",
        "                                shrink=0,\n",
        "                                alpha=0.7,\n",
        "                                width=0.5))\n",
        "    ax.text(1.1 * v[0], 1.1 * v[1], v)"
      ]
    },
    {
      "cell_type": "code",
      "execution_count": 12,
      "metadata": {
        "id": "EzJVpIMrkC_i"
      },
      "outputs": [
        {
          "name": "stdout",
          "output_type": "stream",
          "text": [
            "Matriz A\n",
            "Matrix([[2, -3, -8, 7], [-2, -1, 2, -7], [1, 0, -3, 6]])\n",
            "\n",
            " Transpuesta de A\n",
            "Matrix([[2, -2, 1], [-3, -1, 0], [-8, 2, -3], [7, -7, 6]])\n",
            "\n",
            "Transpuesta de la transpuesta de A\n",
            "\n",
            "Transpuesta de As\n",
            "Matrix([[126, -66, 68], [-66, 58, -50], [68, -50, 46]])\n",
            "Matriz A\n",
            "Matrix([[1, 2], [3, 9]])\n",
            "Inversa de A\n",
            "Matrix([[3, -2/3], [-1, 1/3]])\n"
          ]
        }
      ],
      "source": [
        "A = sympy.Matrix( [[ 2,-3,-8, 7],\n",
        "                   [-2,-1, 2,-7],\n",
        "                   [ 1, 0,-3, 6]] ) # una matriz simple de 3x4\n",
        "print (\"Matriz A\")\n",
        "print (A)\n",
        "# Transpuesta\n",
        "print (\"\\n Transpuesta de A\")\n",
        "print (A.transpose())\n",
        "# transpuesta de transpuesta vuelve a A.\n",
        "print (\"\\nTranspuesta de la transpuesta de A\")\n",
        "A.transpose().transpose()\n",
        "# Creando matriz simetrica\n",
        "As = A*A.transpose()\n",
        "# Comprobando simetria.\n",
        "print (\"\\nTranspuesta de As\")\n",
        "print (As.transpose())\n",
        "# Matriz invertible\n",
        "A = sympy.Matrix( [[1,2],\n",
        "                   [3,9]] )\n",
        "print (\"Matriz A\")\n",
        "print (A)\n",
        "A_inv = A.inv()\n",
        "print (\"Inversa de A\")\n",
        "print (A_inv)\n"
      ]
    },
    {
      "cell_type": "code",
      "execution_count": 13,
      "metadata": {
        "id": "MNmxZZRjkIP1"
      },
      "outputs": [
        {
          "name": "stdout",
          "output_type": "stream",
          "text": [
            "[0. 0.]\n"
          ]
        }
      ],
      "source": [
        "# A * A_inv = I\n",
        "A*A_inv\n",
        "# forma escalonada igual a indentidad.\n",
        "A.rref()\n",
        "# la inversa de A_inv es A\n",
        "A_inv.inv()\n",
        "# Resolviendo el sistema de ecuaciones.\n",
        "A = np.array([[1.2, -2.2],\n",
        "              [1.1, 1.4]])\n",
        "b = np.array([0., 0.])\n",
        "\n",
        "x = np.linalg.solve(A, b)\n",
        "print (x)\n"
      ]
    },
    {
      "cell_type": "code",
      "execution_count": 14,
      "metadata": {
        "id": "wsPoTf7zkL6N"
      },
      "outputs": [
        {
          "data": {
            "image/png": "[encoded data removed]",
            "text/plain": [
              "<Figure size 640x480 with 1 Axes>"
            ]
          },
          "metadata": {},
          "output_type": "display_data"
        }
      ],
      "source": [
        "# Solución gráfica.\n",
        "x_vals = np.linspace(-5, 5, 50) # crea 50 valores entre 0 y 5\n",
        "ax = dibuja_figura()\n",
        "ax.set_xlim(-5, 5)\n",
        "ax.set_ylim(-5, 5)\n",
        "ax.grid()\n",
        "ax.plot(x_vals, (1.2 * x_vals) / -2.2) # grafica 1.2x_1 - 2.2x_2 = 0\n",
        "a = ax.plot(x_vals, (1.1 * x_vals) / 1.4) # grafica 1.1x_1 + 1.4x_2 = 0"
      ]
    },
    {
      "cell_type": "code",
      "execution_count": 15,
      "metadata": {
        "id": "0kmbNy2qkOjb"
      },
      "outputs": [
        {
          "name": "stdout",
          "output_type": "stream",
          "text": [
            "3\n"
          ]
        }
      ],
      "source": [
        "# Sympy para resolver el sistema de ecuaciones lineales\n",
        "a1, a2, a3 = sympy.symbols('a1, a2, a3')\n",
        "A = sympy.Matrix(( (3, 3, 3, 0), (2, 2, 2, 0), (2, 1, 0, 0), (3, 2, 1, 0) ))\n",
        "\n",
        "sympy.solve_linear_system(A, a1, a2, a3)\n",
        "A = sympy.Matrix(( (1, 1, 1, 0), (-2, 1, 1, 0), (-1, 2, 0, 0) ))\n",
        "sympy.solve_linear_system(A, a1, a2, a3)\n",
        "\n",
        "# Calculando el rango con SymPy\n",
        "A = sympy.Matrix([[1, 1, 1, 4],\n",
        "                  [1, 2, 1, 5],\n",
        "                  [1, 1, 1, 6]])\n",
        "# Rango con SymPy\n",
        "print (A.rank())"
      ]
    },
    {
      "cell_type": "code",
      "execution_count": 17,
      "metadata": {
        "id": "qydq07_XkR93"
      },
      "outputs": [
        {
          "name": "stdout",
          "output_type": "stream",
          "text": [
            "2\n"
          ]
        }
      ],
      "source": [
        "# Calculando el rango con numpy\n",
        "A = np.array([[1, 1, 2, 4],\n",
        "              [1, 1, 2, 5],\n",
        "              [1, 1, 2, 6]])\n",
        "\n",
        "print (np.linalg.matrix_rank(A))"
      ]
    },
    {
      "cell_type": "code",
      "execution_count": 18,
      "metadata": {
        "id": "q8hCbKlOkVmA"
      },
      "outputs": [
        {
          "name": "stdout",
          "output_type": "stream",
          "text": [
            "30\n"
          ]
        }
      ],
      "source": [
        "# Determinante con sympy\n",
        "A = sympy.Matrix( [[1, 2, 6],\n",
        "                   [2,-2, 0],\n",
        "                   [2, 3, 5]] )\n",
        "print (A.det())\n"
      ]
    },
    {
      "cell_type": "code",
      "execution_count": 19,
      "metadata": {
        "id": "VnaXfNPjkX16"
      },
      "outputs": [
        {
          "name": "stdout",
          "output_type": "stream",
          "text": [
            "-2.0\n"
          ]
        }
      ],
      "source": [
        "# Determinante con numpy\n",
        "A = np.array([[2, 2, 3],\n",
        "              [2, 1, 4],\n",
        "              [2, 1, 5]] )\n",
        "print (np.linalg.det(A))"
      ]
    },
    {
      "cell_type": "code",
      "execution_count": 20,
      "metadata": {
        "id": "3rugwDQPkavx"
      },
      "outputs": [],
      "source": [
        "# valores_propios con numpy\n",
        "A = np.array([[3, 2],\n",
        "              [7, -2]])\n",
        "\n",
        "x, v = np.linalg.eig(A)"
      ]
    },
    {
      "cell_type": "code",
      "execution_count": 21,
      "metadata": {
        "id": "99HOLrX1kdSM"
      },
      "outputs": [
        {
          "name": "stdout",
          "output_type": "stream",
          "text": [
            "valor propio y vector propio de A\n",
            "[ 5. -4.] [[ 0.70710678 -0.27472113]\n",
            " [ 0.70710678  0.96152395]]\n"
          ]
        }
      ],
      "source": [
        "# x valor_propio, v vector_propio\n",
        "print (\"valor propio y vector propio de A\")\n",
        "print (x, v)"
      ]
    },
    {
      "cell_type": "code",
      "execution_count": 22,
      "metadata": {
        "id": "MpfYBbpXkfyC"
      },
      "outputs": [],
      "source": [
        "# valores_propios con SymPy\n",
        "A = sympy.Matrix([[3, 2],\n",
        "                  [7, -2]])"
      ]
    },
    {
      "cell_type": "code",
      "execution_count": 23,
      "metadata": {
        "id": "oKzszHhkkiX2"
      },
      "outputs": [
        {
          "name": "stdout",
          "output_type": "stream",
          "text": [
            "Matrix([[3, 2], [7, -2]])\n",
            "valores propios\n",
            "{5: 1, -4: 1}\n",
            "vectores propios\n",
            "[(-4, 1, [Matrix([\n",
            "[-2/7],\n",
            "[   1]])]), (5, 1, [Matrix([\n",
            "[1],\n",
            "[1]])])]\n"
          ]
        }
      ],
      "source": [
        "# Valores_propios\n",
        "print (A)\n",
        "print (\"valores propios\")\n",
        "print (A.eigenvals())\n",
        "print (\"vectores propios\")\n",
        "# vector_propio\n",
        "print (A.eigenvects())"
      ]
    }
  ],
  "metadata": {
    "colab": {
      "provenance": []
    },
    "kernelspec": {
      "display_name": "machineVenv",
      "language": "python",
      "name": "python3"
    },
    "language_info": {
      "codemirror_mode": {
        "name": "ipython",
        "version": 3
      },
      "file_extension": ".py",
      "mimetype": "text/x-python",
      "name": "python",
      "nbconvert_exporter": "python",
      "pygments_lexer": "ipython3",
      "version": "3.13.6"
    }
  },
  "nbformat": 4,
  "nbformat_minor": 0
}
